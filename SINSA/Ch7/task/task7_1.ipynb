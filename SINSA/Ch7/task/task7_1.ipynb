{
  "nbformat": 4,
  "nbformat_minor": 0,
  "metadata": {
    "colab": {
      "provenance": [],
      "gpuType": "T4",
      "authorship_tag": "ABX9TyNqXq1Rf/MuzkWFpomLZGKv",
      "include_colab_link": true
    },
    "kernelspec": {
      "name": "python3",
      "display_name": "Python 3"
    },
    "language_info": {
      "name": "python"
    },
    "accelerator": "GPU"
  },
  "cells": [
    {
      "cell_type": "markdown",
      "metadata": {
        "id": "view-in-github",
        "colab_type": "text"
      },
      "source": [
        "<a href=\"https://colab.research.google.com/github/CodeByJJY/AIByJJY/blob/main/SINSA/Ch7/task/task7_1.ipynb\" target=\"_parent\"><img src=\"https://colab.research.google.com/assets/colab-badge.svg\" alt=\"Open In Colab\"/></a>"
      ]
    },
    {
      "cell_type": "markdown",
      "source": [
        "# **라이브러리 설치**"
      ],
      "metadata": {
        "id": "Qw0xRX8VXClw"
      }
    },
    {
      "cell_type": "code",
      "source": [
        "# 필요한 라이브러리 설치 및 불러오기\n",
        "!pip install ucimlrepo"
      ],
      "metadata": {
        "colab": {
          "base_uri": "https://localhost:8080/"
        },
        "id": "cTcPg_ADZE26",
        "outputId": "f089c565-fb9f-4329-ca43-e7d2e0548cd8"
      },
      "execution_count": 29,
      "outputs": [
        {
          "output_type": "stream",
          "name": "stdout",
          "text": [
            "Requirement already satisfied: ucimlrepo in /usr/local/lib/python3.10/dist-packages (0.0.7)\n",
            "Requirement already satisfied: pandas>=1.0.0 in /usr/local/lib/python3.10/dist-packages (from ucimlrepo) (2.2.2)\n",
            "Requirement already satisfied: certifi>=2020.12.5 in /usr/local/lib/python3.10/dist-packages (from ucimlrepo) (2024.8.30)\n",
            "Requirement already satisfied: numpy>=1.22.4 in /usr/local/lib/python3.10/dist-packages (from pandas>=1.0.0->ucimlrepo) (1.26.4)\n",
            "Requirement already satisfied: python-dateutil>=2.8.2 in /usr/local/lib/python3.10/dist-packages (from pandas>=1.0.0->ucimlrepo) (2.8.2)\n",
            "Requirement already satisfied: pytz>=2020.1 in /usr/local/lib/python3.10/dist-packages (from pandas>=1.0.0->ucimlrepo) (2024.2)\n",
            "Requirement already satisfied: tzdata>=2022.7 in /usr/local/lib/python3.10/dist-packages (from pandas>=1.0.0->ucimlrepo) (2024.2)\n",
            "Requirement already satisfied: six>=1.5 in /usr/local/lib/python3.10/dist-packages (from python-dateutil>=2.8.2->pandas>=1.0.0->ucimlrepo) (1.16.0)\n"
          ]
        }
      ]
    },
    {
      "cell_type": "code",
      "source": [
        "from ucimlrepo import fetch_ucirepo\n",
        "from sklearn.model_selection import train_test_split\n",
        "from sklearn.tree import DecisionTreeClassifier\n",
        "from sklearn.ensemble import BaggingClassifier, AdaBoostClassifier\n",
        "from sklearn.metrics import accuracy_score, classification_report, average_precision_score, roc_auc_score\n",
        "from sklearn.utils import class_weight\n",
        "import numpy as np\n",
        "import matplotlib.pyplot as plt\n",
        "import pandas as pd\n",
        "from sklearn.preprocessing import label_binarize"
      ],
      "metadata": {
        "id": "DBuw2oT9ZJEj"
      },
      "execution_count": 30,
      "outputs": []
    },
    {
      "cell_type": "markdown",
      "source": [
        "# **데이터셋 호출 및 전처리**"
      ],
      "metadata": {
        "id": "yQE04pIAZO0G"
      }
    },
    {
      "cell_type": "code",
      "source": [
        "# 데이터셋 불러오기\n",
        "wine_quality = fetch_ucirepo(id=186)\n",
        "X = wine_quality.data.features\n",
        "y = wine_quality.data.targets"
      ],
      "metadata": {
        "id": "oOJicxH0ZR01"
      },
      "execution_count": 31,
      "outputs": []
    },
    {
      "cell_type": "code",
      "source": [
        "# y가 DataFrame인지 확인하고 Series로 변환\n",
        "if isinstance(y, pd.DataFrame):\n",
        "    y = y.squeeze()  # DataFrame을 Series로 변환\n",
        "\n",
        "# 품질 데이터 라벨링 (1-3: Low, 4-6: Mid, 7-9: High)\n",
        "def quality_label(quality):\n",
        "    if quality <= 3:\n",
        "        return 'Low'\n",
        "    elif 4 <= quality <= 6:\n",
        "        return 'Mid'\n",
        "    else:\n",
        "        return 'High'\n",
        "\n",
        "# y 데이터에 새로운 라벨 적용\n",
        "y = y.apply(quality_label)"
      ],
      "metadata": {
        "id": "czLsuZI_ZYck"
      },
      "execution_count": 32,
      "outputs": []
    },
    {
      "cell_type": "code",
      "source": [
        "# 데이터 분할\n",
        "X_train, X_test, y_train, y_test = train_test_split(X, y, test_size=0.2, random_state=42)\n",
        "\n",
        "# 클래스 가중치 계산 (불균형 데이터 대처)\n",
        "weights = class_weight.compute_class_weight(class_weight='balanced', classes=np.unique(y), y=y_train)\n",
        "class_weights = dict(zip(np.unique(y), weights))"
      ],
      "metadata": {
        "id": "iYBpBllpabVB"
      },
      "execution_count": 33,
      "outputs": []
    },
    {
      "cell_type": "markdown",
      "source": [
        "# **모델 학습**"
      ],
      "metadata": {
        "id": "OW2n4RvMaemt"
      }
    },
    {
      "cell_type": "code",
      "source": [
        "# 단일 모델\n",
        "base_model = DecisionTreeClassifier(class_weight=class_weights, random_state=42)\n",
        "single_model = base_model.fit(X_train, y_train)\n",
        "y_pred_single = single_model.predict(X_test)\n",
        "\n",
        "# 배깅 모델 (class_weight 적용하지 않은 결정 트리 사용)\n",
        "bagging_model = BaggingClassifier(DecisionTreeClassifier(random_state=42), n_estimators=10, random_state=42)\n",
        "bagging_model.fit(X_train, y_train)\n",
        "y_pred_bagging = bagging_model.predict(X_test)\n",
        "\n",
        "# 부스팅 모델 (class_weight 적용된 결정 트리 사용)\n",
        "boosting_model = AdaBoostClassifier(base_model, n_estimators=10, random_state=42)\n",
        "boosting_model.fit(X_train, y_train)\n",
        "y_pred_boosting = boosting_model.predict(X_test)"
      ],
      "metadata": {
        "colab": {
          "base_uri": "https://localhost:8080/"
        },
        "id": "Y87dJKrCXEtx",
        "outputId": "09da95c8-ff2c-43c5-f92e-8e201da73d20"
      },
      "execution_count": 34,
      "outputs": [
        {
          "output_type": "stream",
          "name": "stderr",
          "text": [
            "/usr/local/lib/python3.10/dist-packages/sklearn/ensemble/_weight_boosting.py:527: FutureWarning: The SAMME.R algorithm (the default) is deprecated and will be removed in 1.6. Use the SAMME algorithm to circumvent this warning.\n",
            "  warnings.warn(\n"
          ]
        }
      ]
    },
    {
      "cell_type": "markdown",
      "source": [
        "# **모델 평가**"
      ],
      "metadata": {
        "id": "0oBNrF8iakk-"
      }
    },
    {
      "cell_type": "code",
      "source": [
        "# 성능 평가 함수\n",
        "def evaluate_model(y_true, y_pred, model_name):\n",
        "    print(f\"===== {model_name} 성능 평가 =====\")\n",
        "    print(classification_report(y_true, y_pred, target_names=['Low', 'Mid', 'High']))\n",
        "    accuracy = accuracy_score(y_true, y_pred)\n",
        "    print(f\"정확도: {accuracy:.4f}\")\n",
        "    return accuracy\n",
        "\n",
        "# 모델 성능 평가\n",
        "accuracy_single = evaluate_model(y_test, y_pred_single, \"단일 모델\")\n",
        "accuracy_bagging = evaluate_model(y_test, y_pred_bagging, \"배깅 모델\")\n",
        "accuracy_boosting = evaluate_model(y_test, y_pred_boosting, \"부스팅 모델\")\n",
        "\n",
        "# 다중 클래스 Precision-Recall 및 ROC AUC 계산\n",
        "y_test_binarized = label_binarize(y_test, classes=['Low', 'Mid', 'High'])\n",
        "y_proba = boosting_model.predict_proba(X_test)\n",
        "\n",
        "# Precision-Recall AUC (macro 평균)\n",
        "avg_precision = average_precision_score(y_test_binarized, y_proba, average=\"macro\")\n",
        "print(f\"평균 Precision-Recall AUC (macro): {avg_precision:.4f}\")\n",
        "\n",
        "# ROC AUC (macro 평균)\n",
        "roc_auc = roc_auc_score(y_test_binarized, y_proba, average=\"macro\")\n",
        "print(f\"평균 ROC AUC (macro): {roc_auc:.4f}\")"
      ],
      "metadata": {
        "colab": {
          "base_uri": "https://localhost:8080/"
        },
        "id": "aST6rHfSanDN",
        "outputId": "a30410fc-6663-43c6-e99e-183ea1668d4d"
      },
      "execution_count": 35,
      "outputs": [
        {
          "output_type": "stream",
          "name": "stdout",
          "text": [
            "===== 단일 모델 성능 평가 =====\n",
            "              precision    recall  f1-score   support\n",
            "\n",
            "         Low       0.63      0.63      0.63       252\n",
            "         Mid       0.00      0.00      0.00         6\n",
            "        High       0.91      0.90      0.90      1042\n",
            "\n",
            "    accuracy                           0.85      1300\n",
            "   macro avg       0.51      0.51      0.51      1300\n",
            "weighted avg       0.85      0.85      0.85      1300\n",
            "\n",
            "정확도: 0.8469\n",
            "===== 배깅 모델 성능 평가 =====\n",
            "              precision    recall  f1-score   support\n",
            "\n",
            "         Low       0.68      0.64      0.66       252\n",
            "         Mid       0.00      0.00      0.00         6\n",
            "        High       0.91      0.93      0.92      1042\n",
            "\n",
            "    accuracy                           0.87      1300\n",
            "   macro avg       0.53      0.52      0.53      1300\n",
            "weighted avg       0.86      0.87      0.86      1300\n",
            "\n",
            "정확도: 0.8669\n",
            "===== 부스팅 모델 성능 평가 =====\n",
            "              precision    recall  f1-score   support\n",
            "\n",
            "         Low       0.63      0.65      0.64       252\n",
            "         Mid       0.14      0.17      0.15         6\n",
            "        High       0.91      0.90      0.91      1042\n",
            "\n",
            "    accuracy                           0.85      1300\n",
            "   macro avg       0.56      0.57      0.57      1300\n",
            "weighted avg       0.85      0.85      0.85      1300\n",
            "\n",
            "정확도: 0.8500\n",
            "평균 Precision-Recall AUC (macro): 0.3211\n",
            "평균 ROC AUC (macro): 0.4314\n"
          ]
        }
      ]
    }
  ]
}