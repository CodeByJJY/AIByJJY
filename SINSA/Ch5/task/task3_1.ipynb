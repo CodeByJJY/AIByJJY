{
  "nbformat": 4,
  "nbformat_minor": 0,
  "metadata": {
    "colab": {
      "provenance": [],
      "gpuType": "T4",
      "authorship_tag": "ABX9TyOGpV4Ev2tzsOhRawonFcdb",
      "include_colab_link": true
    },
    "kernelspec": {
      "name": "python3",
      "display_name": "Python 3"
    },
    "language_info": {
      "name": "python"
    },
    "accelerator": "GPU"
  },
  "cells": [
    {
      "cell_type": "markdown",
      "metadata": {
        "id": "view-in-github",
        "colab_type": "text"
      },
      "source": [
        "<a href=\"https://colab.research.google.com/github/CodeByJJY/AIByJJY/blob/main/SINSA/Ch5/task/task3_1.ipynb\" target=\"_parent\"><img src=\"https://colab.research.google.com/assets/colab-badge.svg\" alt=\"Open In Colab\"/></a>"
      ]
    },
    {
      "cell_type": "markdown",
      "source": [
        "# **필요한 라이브러리 임포트**"
      ],
      "metadata": {
        "id": "UH1KDZBQqkjb"
      }
    },
    {
      "cell_type": "code",
      "source": [
        "import pandas as pd\n",
        "import numpy as np\n",
        "import time\n",
        "from sklearn.model_selection import train_test_split\n",
        "from sklearn.preprocessing import StandardScaler, PolynomialFeatures\n",
        "from sklearn.svm import SVC, LinearSVC\n",
        "from sklearn.metrics import accuracy_score"
      ],
      "metadata": {
        "id": "bGYFN_TGqhbo"
      },
      "execution_count": 3,
      "outputs": []
    },
    {
      "cell_type": "markdown",
      "source": [
        "# **데이터 로드**"
      ],
      "metadata": {
        "id": "X9SiRN86qqjt"
      }
    },
    {
      "cell_type": "code",
      "source": [
        "data = pd.read_csv(\"data.csv\")"
      ],
      "metadata": {
        "id": "0Kgq-flEqsd-"
      },
      "execution_count": 4,
      "outputs": []
    },
    {
      "cell_type": "markdown",
      "source": [
        "# **데이터 전처리**"
      ],
      "metadata": {
        "id": "VK0_MWKwqxgK"
      }
    },
    {
      "cell_type": "code",
      "source": [
        "X = data.drop([\"id\", \"diagnosis\", \"Unnamed: 32\"], axis=1)  # 불필요한 컬럼 제거\n",
        "y = data[\"diagnosis\"].map({'M': 1, 'B': 0})  # M(악성)은 1, B(양성)은 0으로 변환"
      ],
      "metadata": {
        "id": "0YB5PVn_qzcV"
      },
      "execution_count": 5,
      "outputs": []
    },
    {
      "cell_type": "markdown",
      "source": [
        "# **Dataset을 train_set와 test_set으로 구분**"
      ],
      "metadata": {
        "id": "C3kO_LzIq5VL"
      }
    },
    {
      "cell_type": "code",
      "source": [
        "X_train, X_test, y_train, y_test = train_test_split(X, y, test_size=0.3, random_state=42)"
      ],
      "metadata": {
        "id": "emT6Ig9cq-7T"
      },
      "execution_count": 6,
      "outputs": []
    },
    {
      "cell_type": "markdown",
      "source": [
        "# **데이터 스케일링(표준화)**"
      ],
      "metadata": {
        "id": "Iz8XgRDfrDG1"
      }
    },
    {
      "cell_type": "code",
      "source": [
        "scaler = StandardScaler()\n",
        "X_train_scaled = scaler.fit_transform(X_train)\n",
        "X_test_scaled = scaler.transform(X_test)"
      ],
      "metadata": {
        "id": "z-LHNqlPrGRa"
      },
      "execution_count": 7,
      "outputs": []
    },
    {
      "cell_type": "markdown",
      "source": [
        "# **5차 다항식 변환**"
      ],
      "metadata": {
        "id": "ife1uXPBrMod"
      }
    },
    {
      "cell_type": "code",
      "source": [
        "poly_features = PolynomialFeatures(degree=5)\n",
        "X_train_poly = poly_features.fit_transform(X_train_scaled)\n",
        "X_test_poly = poly_features.transform(X_test_scaled)"
      ],
      "metadata": {
        "id": "4uey8VHurPMw"
      },
      "execution_count": 8,
      "outputs": []
    },
    {
      "cell_type": "markdown",
      "source": [
        "# **5차 다항식 변환된 feature으로 선형 SVC 학습**"
      ],
      "metadata": {
        "id": "ZSYfMln8rcc4"
      }
    },
    {
      "cell_type": "code",
      "source": [
        "start_time = time.time()\n",
        "linear_svc = LinearSVC(max_iter=10000)\n",
        "linear_svc.fit(X_train_poly, y_train)\n",
        "linear_svc_train_time = time.time() - start_time"
      ],
      "metadata": {
        "id": "48HGkHBlrhh7"
      },
      "execution_count": 9,
      "outputs": []
    },
    {
      "cell_type": "markdown",
      "source": [
        "# **5차 다항식 커널 SVC 학습**"
      ],
      "metadata": {
        "id": "SCdryXp2r2h9"
      }
    },
    {
      "cell_type": "code",
      "source": [
        "start_time = time.time()\n",
        "poly_svc = SVC(kernel='poly', degree=5, C=1, random_state=42)\n",
        "poly_svc.fit(X_train_scaled, y_train)  # 커널 트릭은 원본 피처에 대해 바로 적용\n",
        "poly_svc_train_time = time.time() - start_time"
      ],
      "metadata": {
        "id": "Y7uIws8prv30"
      },
      "execution_count": 10,
      "outputs": []
    },
    {
      "cell_type": "markdown",
      "source": [
        "# **모델 성능 평가**"
      ],
      "metadata": {
        "id": "Y-7OAXs5r5EU"
      }
    },
    {
      "cell_type": "code",
      "source": [
        "linear_svc_pred = linear_svc.predict(X_test_poly)\n",
        "poly_svc_pred = poly_svc.predict(X_test_scaled)\n",
        "\n",
        "linear_svc_accuracy = accuracy_score(y_test, linear_svc_pred)\n",
        "poly_svc_accuracy = accuracy_score(y_test, poly_svc_pred)"
      ],
      "metadata": {
        "id": "_U5Er7Cgr64G"
      },
      "execution_count": 11,
      "outputs": []
    },
    {
      "cell_type": "markdown",
      "source": [
        "# **결과 출력 및 분석**"
      ],
      "metadata": {
        "id": "DoUpDr5WsGVb"
      }
    },
    {
      "cell_type": "code",
      "source": [
        "print(f\"Linear SVC 학습 시간: {linear_svc_train_time:.4f}초\")\n",
        "print(f\"Polynomial Kernel SVC 학습 시간: {poly_svc_train_time:.4f}초\")\n",
        "print(f\"Linear SVC 정확도: {linear_svc_accuracy:.4f}\")\n",
        "print(f\"Polynomial Kernel SVC 정확도: {poly_svc_accuracy:.4f}\")\n",
        "\n",
        "# 7. 속도 차이의 이유\n",
        "# Linear SVC는 다항식으로 변환된 고차원의 피처들을 직접 사용하여 학습하지만,\n",
        "# Polynomial Kernel SVC는 커널 트릭을 통해 계산 복잡도를 줄이면서 학습합니다.\n",
        "# 이로 인해 Polynomial Kernel SVC가 더 효율적일 수 있지만,\n",
        "# 실제 데이터셋의 크기와 차원에 따라 결과는 달라질 수 있습니다."
      ],
      "metadata": {
        "colab": {
          "base_uri": "https://localhost:8080/"
        },
        "id": "FN851E5BsIb0",
        "outputId": "dff0183f-b503-4304-d16b-8df5dbc48de0"
      },
      "execution_count": 12,
      "outputs": [
        {
          "output_type": "stream",
          "name": "stdout",
          "text": [
            "Linear SVC 학습 시간: 7.7397초\n",
            "Polynomial Kernel SVC 학습 시간: 0.0087초\n",
            "Linear SVC 정확도: 0.9357\n",
            "Polynomial Kernel SVC 정확도: 0.8421\n"
          ]
        }
      ]
    }
  ]
}