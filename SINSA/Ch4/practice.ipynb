import numpy as np
import matplotlib.pyplot as plt

# 데이터 생성
np.random.seed(42)
m = 100
X = 2 * np.random.rand(m, 1)
y = 4 + 3 * X + np.random.randn(m, 1)

# 그래프 그리기
plt.figure(figsize=(8, 6))
plt.scatter(X, y, color='blue', marker='o', label='Data points')
plt.title('Scatter plot of generated dataset')
plt.xlabel('X')
plt.ylabel('y')
plt.legend()
plt.grid(True)
plt.show()

##################################################################
from sklearn.preprocessing import add_dummy_feature

X_b = add_dummy_feature(X)  # 각 샘플에 X0 추가
theta_best = np.linalg.inv(X_b.T @ X_b) @ X_b.T @ y
print(theta_best)

X_new = np.array([[0], [2]])
X_new_b = add_dummy_feature(X_new)
y_predict = X_new_b @ theta_best
print(y_predict)

import matplotlib.pyplot as plt

plt.plot(X_new, y_predict, "r-", label = "예측")
plt.plot(X, y, "b.")
plt.show()

###################################################################
from sklearn.linear_model import LinearRegression

lin_reg = LinearRegression()
lin_reg.fit(X, y)

print(lin_reg.intercept_, lin_reg.coef_)
print(lin_reg.predict(X_new))

theta_best_svd, residuals, rank, s = np.linalg.lstsq(X_b, y, rcond = 1e-6)
print(theta_best_svd)

print(np.linalg.pinv(X_b) @ y)
####################################################################
import numpy as np
import matplotlib.pyplot as plt

# 가상 데이터 생성 (간단한 1차원 선형 회귀 문제)
np.random.seed(42)
m = 100  # 데이터 개수
X = 2 * np.random.rand(m, 1)
y = 4 + 3 * X + np.random.randn(m, 1)

# X_b에 절편(bias)를 위한 1의 열을 추가
X_b = np.c_[np.ones((m, 1)), X]

# 하이퍼파라미터 설정
eta = 0.1  # 학습률
n_epochs = 10  # 반복 횟수
m = len(X_b)  # 데이터 포인트의 개수

# 초기 theta 랜덤 설정
np.random.seed(42)
theta = np.random.randn(2, 1)

# 경사 하강법 애니메이션 그리기
plt.ion()  # Interactive mode on

# 경사 하강법
for epoch in range(n_epochs):
    gradients = 2 / m * X_b.T @ (X_b @ theta - y)
    theta = theta - eta * gradients
    
    if epoch % 2 == 0:  # 100번마다 그래프 업데이트
        plt.clf()  # 이전 플롯을 지우기
        
        # 데이터 포인트 플롯
        plt.plot(X, y, "b.")  
        
        # 직선 방정식 플롯
        X_new = np.array([[0], [2]])
        X_new_b = np.c_[np.ones((2, 1)), X_new]
        y_predict = X_new_b @ theta
        plt.plot(X_new, y_predict, "r-", linewidth=2, label=f"Epoch {epoch}")
        
        # 그래프 설정
        plt.axis([0, 2, 0, 15])
        plt.xlabel('X')
        plt.ylabel('y')
        plt.title(f'Linear Regression: Epoch {epoch}')
        plt.legend()
        plt.grid(True)
        
        plt.pause(0.1)  # 잠깐 멈추기

plt.ioff()  # Interactive mode off
plt.show()
##############################################################################
n_epochs = 50
t0, t1 = 5, 50

def learning_schedule(t):
  return t0 / (t + t1)

np.random.seed(42)
theta = np.random.randn(2, 1)

for epoch in range(n_epochs):
  for iteration in range(m):
    random_index = np.random.randint(m)
    xi = X_b[random_index:random_index + 1]
    yi = y[random_index:random_index + 1]
    gradients = 2 * xi.T @ (xi @ theta - yi)
    eta = learning_schedule(epoch * m + iteration)
    theta = theta - eta * gradients

    # 매 epoch마다 직선 그리기
    if epoch % 5 == 0:  # 5 epoch마다 그래프 업데이트
        plt.clf()  # 이전 플롯을 지우기
        
        # 데이터 포인트 플롯
        plt.plot(X, y, "b.")  
        
        # 직선 방정식 플롯
        X_new = np.array([[0], [2]])
        X_new_b = np.c_[np.ones((2, 1)), X_new]
        y_predict = X_new_b @ theta
        plt.plot(X_new, y_predict, "r-", linewidth=2, label=f"Epoch {epoch}")
        
        # 그래프 설정
        plt.axis([0, 2, 0, 15])
        plt.xlabel('X')
        plt.ylabel('y')
        plt.title(f'Linear Regression: Epoch {epoch}')
        plt.legend()
        plt.grid(True)
        
        plt.pause(0.1)  # 잠깐 멈추기

plt.ioff()  # Interactive mode off
plt.show()

##################################################################################3
from sklearn.linear_model import SGDRegressor

sgd_reg = SGDRegressor(max_iter = 1000, tol = 1e-5, penalty = None, eta0 = 0.01, 
                       n_iter_no_change = 100, random_state = 42)
sgd_reg.fit(X, y.ravel())

print(sgd_reg.intercept_, sgd_reg.coef_)

######################################################################################

from sklearn.preprocessing import PolynomialFeatures
from sklearn.linear_model import LinearRegression


poly_features = PolynomialFeatures(degree = 2, include_bias = False)
X_poly = poly_features.fit_transform(X)
print(X[0], X_poly[0])

lin_reg = LinearRegression()
lin_reg.fit(X_poly, y)
print(lin_reg.intercept_, lin_reg.coef_)
