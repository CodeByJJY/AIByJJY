{
 "cells": [
  {
   "cell_type": "code",
   "execution_count": 84,
   "metadata": {},
   "outputs": [
    {
     "name": "stdout",
     "output_type": "stream",
     "text": [
      "Moved: LPMS_B_V111_R_B_30.0_229.0_4.8G_240910142214553.png to C:\\Users\\SAMSUNG\\OneDrive\\Desktop\\image\\228\n",
      "Moved: LPMS_B_V111_R_B_30.0_229.0_5.9G_240910142136523.png to C:\\Users\\SAMSUNG\\OneDrive\\Desktop\\image\\228\n",
      "Moved: LPMS_B_V111_R_B_30.0_229.0_6.0G_240910142206553.png to C:\\Users\\SAMSUNG\\OneDrive\\Desktop\\image\\228\n",
      "Moved: LPMS_B_V111_R_B_30.0_229.0_6.2G_240910142210563.png to C:\\Users\\SAMSUNG\\OneDrive\\Desktop\\image\\228\n",
      "Moved: LPMS_B_V111_R_B_30.0_229.0_7.4G_240910142218563.png to C:\\Users\\SAMSUNG\\OneDrive\\Desktop\\image\\228\n",
      "Moved: LPMS_I_V111_T_B_30.0_229.0_7.4G_240910142358523.png to C:\\Users\\SAMSUNG\\OneDrive\\Desktop\\image\\228\n",
      "Moved: LPMS_I_V111_T_B_30.0_229.0_7.6G_240910142344523.png to C:\\Users\\SAMSUNG\\OneDrive\\Desktop\\image\\228\n",
      "Moved: LPMS_I_V111_T_B_30.0_229.0_7.7G_240910142318553.png to C:\\Users\\SAMSUNG\\OneDrive\\Desktop\\image\\228\n",
      "Moved: LPMS_I_V111_T_B_30.0_229.0_7.7G_240910142333533.png to C:\\Users\\SAMSUNG\\OneDrive\\Desktop\\image\\228\n",
      "Moved: LPMS_I_V111_T_B_30.0_229.0_8.0G_240910142329553.png to C:\\Users\\SAMSUNG\\OneDrive\\Desktop\\image\\228\n",
      "Moved: LPMS_I_V112_R_B_30.0_229.0_10.4G_240910152016571.png to C:\\Users\\SAMSUNG\\OneDrive\\Desktop\\image\\228\n",
      "Moved: LPMS_I_V112_R_B_30.0_229.0_10.5G_240910151939571.png to C:\\Users\\SAMSUNG\\OneDrive\\Desktop\\image\\228\n",
      "Moved: LPMS_I_V112_R_B_30.0_229.0_11.1G_240910151921551.png to C:\\Users\\SAMSUNG\\OneDrive\\Desktop\\image\\228\n",
      "Moved: LPMS_I_V112_R_B_30.0_229.0_11.8G_240910151926561.png to C:\\Users\\SAMSUNG\\OneDrive\\Desktop\\image\\228\n",
      "Moved: LPMS_I_V112_R_B_30.0_229.0_12.1G_240910151931561.png to C:\\Users\\SAMSUNG\\OneDrive\\Desktop\\image\\228\n",
      "Moved: LPMS_I_V112_R_B_30.0_229.0_8.2G_240910151958551.png to C:\\Users\\SAMSUNG\\OneDrive\\Desktop\\image\\228\n",
      "Moved: LPMS_I_V112_R_B_30.0_229.0_8.4G_240910151948561.png to C:\\Users\\SAMSUNG\\OneDrive\\Desktop\\image\\228\n"
     ]
    }
   ],
   "source": [
    "## 1. Mass image data pre-classification ##\n",
    "##    1) Category : [57, 113, 227, 228, 229, 455]\n",
    "##    2) Result : [57: 60, 113: 64, 227~229(=228): 170, 455: 64]\n",
    "\n",
    "import os\n",
    "import shutil\n",
    "\n",
    "\n",
    "def move_files_with_pattern(source_folder, target_folder, pattern):\n",
    "    \n",
    "    if not os.path.exists(target_folder):\n",
    "        os.makedirs(target_folder)\n",
    "        print(f\"Created folder: {target_folder}\")\n",
    "    \n",
    "    \n",
    "    for file_name in os.listdir(source_folder):\n",
    "        if pattern in file_name:\n",
    "            source_path = os.path.join(source_folder, file_name)\n",
    "            target_path = os.path.join(target_folder, file_name)\n",
    "            shutil.move(source_path, target_path)\n",
    "            print(f\"Moved: {file_name} to {target_folder}\")\n",
    "\n",
    "# Image folder paths\n",
    "source_folder = r\"C:\\Users\\SAMSUNG\\OneDrive\\Desktop\\image\\image\"  # Before Classification\n",
    "target_folder = r\"C:\\Users\\SAMSUNG\\OneDrive\\Desktop\\image\\228\"  # After Classification\n",
    "pattern = \"229.0\"  # mass classification target\n",
    "\n",
    "# Execute\n",
    "move_files_with_pattern(source_folder, target_folder, pattern)"
   ]
  },
  {
   "cell_type": "code",
   "execution_count": 86,
   "metadata": {},
   "outputs": [
    {
     "name": "stdout",
     "output_type": "stream",
     "text": [
      "Created folder: C:\\Users\\SAMSUNG\\OneDrive\\Desktop\\image\\train\n",
      "Created folder: C:\\Users\\SAMSUNG\\OneDrive\\Desktop\\image\\validation\n",
      "Created folder: C:\\Users\\SAMSUNG\\OneDrive\\Desktop\\image\\test\n",
      "Split 113: 51 train, 6 val, 7 test\n",
      "Split 228: 136 train, 17 val, 17 test\n",
      "Split 455: 51 train, 6 val, 7 test\n",
      "Split 57: 48 train, 6 val, 6 test\n",
      "Split test: 29 train, 3 val, 5 test\n",
      "Split train: 0 train, 0 val, 0 test\n",
      "Split validation: 30 train, 3 val, 5 test\n"
     ]
    }
   ],
   "source": [
    "import os\n",
    "import shutil\n",
    "import random\n",
    "\n",
    "\n",
    "def split_dataset(source_folder, train_folder, val_folder, test_folder, train_ratio=0.8, val_ratio=0.1):\n",
    "    # train, validation, test 폴더 생성\n",
    "    for folder in [train_folder, val_folder, test_folder]:\n",
    "        if not os.path.exists(folder):\n",
    "            os.makedirs(folder)\n",
    "            print(f\"Created folder: {folder}\")\n",
    "\n",
    "    # 질량별 폴더 처리\n",
    "    for mass_folder in os.listdir(source_folder):\n",
    "        mass_path = os.path.join(source_folder, mass_folder)\n",
    "        if os.path.isdir(mass_path):  # 질량별 폴더인지 확인\n",
    "            images = [f for f in os.listdir(mass_path) if os.path.isfile(os.path.join(mass_path, f))]\n",
    "            random.shuffle(images)  # 이미지를 랜덤으로 섞음\n",
    "\n",
    "            # 데이터 분할\n",
    "            train_count = int(len(images) * train_ratio)\n",
    "            val_count = int(len(images) * val_ratio)\n",
    "            train_images = images[:train_count]\n",
    "            val_images = images[train_count:train_count + val_count]\n",
    "            test_images = images[train_count + val_count:]\n",
    "\n",
    "            # Train 데이터 이동 (질량별 폴더 유지)\n",
    "            target_class_folder = os.path.join(train_folder, mass_folder)\n",
    "            if not os.path.exists(target_class_folder):\n",
    "                os.makedirs(target_class_folder)\n",
    "            for file in train_images:\n",
    "                src_path = os.path.join(mass_path, file)\n",
    "                dst_path = os.path.join(target_class_folder, file)\n",
    "                shutil.move(src_path, dst_path)\n",
    "\n",
    "            # Validation 데이터 이동 (폴더 없이 섞임)\n",
    "            for file in val_images:\n",
    "                src_path = os.path.join(mass_path, file)\n",
    "                dst_path = os.path.join(val_folder, file)\n",
    "                shutil.move(src_path, dst_path)\n",
    "\n",
    "            # Test 데이터 이동 (폴더 없이 섞임)\n",
    "            for file in test_images:\n",
    "                src_path = os.path.join(mass_path, file)\n",
    "                dst_path = os.path.join(test_folder, file)\n",
    "                shutil.move(src_path, dst_path)\n",
    "\n",
    "            print(f\"Split {mass_folder}: {len(train_images)} train, {len(val_images)} val, {len(test_images)} test\")\n",
    "\n",
    "\n",
    "# 경로 설정\n",
    "source_folder = r\"C:\\Users\\SAMSUNG\\OneDrive\\Desktop\\image\"  # 질량별 데이터가 있는 폴더\n",
    "train_folder = r\"C:\\Users\\SAMSUNG\\OneDrive\\Desktop\\image\\train\"  # Train 데이터 폴더\n",
    "val_folder = r\"C:\\Users\\SAMSUNG\\OneDrive\\Desktop\\image\\validation\"  # Validation 데이터 폴더\n",
    "test_folder = r\"C:\\Users\\SAMSUNG\\OneDrive\\Desktop\\image\\test\"  # Test 데이터 폴더\n",
    "\n",
    "# 함수 실행\n",
    "split_dataset(source_folder, train_folder, val_folder, test_folder, train_ratio=0.8, val_ratio=0.1)\n"
   ]
  },
  {
   "cell_type": "code",
   "execution_count": null,
   "metadata": {},
   "outputs": [],
   "source": [
    "## 3. Training / Evaluation ##"
   ]
  },
  {
   "cell_type": "code",
   "execution_count": 66,
   "metadata": {},
   "outputs": [],
   "source": [
    "import os\n",
    "import tensorflow as tf\n",
    "from tensorflow.keras.preprocessing.image import ImageDataGenerator\n",
    "from tensorflow.keras.applications import EfficientNetB0\n",
    "from tensorflow.keras.models import Model\n",
    "from tensorflow.keras.layers import Dense, GlobalAveragePooling2D\n",
    "from tensorflow.keras.optimizers import Adam\n",
    "from sklearn.metrics import confusion_matrix, classification_report\n",
    "import numpy as np\n",
    "import matplotlib.pyplot as plt"
   ]
  },
  {
   "cell_type": "code",
   "execution_count": 67,
   "metadata": {},
   "outputs": [],
   "source": [
    "##  3.2. Path setting\n",
    "\n",
    "train_dir = r\"C:\\Users\\SAMSUNG\\OneDrive\\Desktop\\image\\train\"\n",
    "test_dir = r\"C:\\Users\\SAMSUNG\\OneDrive\\Desktop\\image\\test\"\n",
    "model_save_path = \"efficientnet_model.keras\""
   ]
  },
  {
   "cell_type": "code",
   "execution_count": 68,
   "metadata": {},
   "outputs": [],
   "source": [
    "##  3.3. Hyperparameter setting\n",
    "\n",
    "batch_size = 8\n",
    "img_size = (224, 224)  # EfficientNet 기본 입력 크기\n",
    "epochs = 20\n",
    "learning_rate = 0.0001  # 학습률 줄임"
   ]
  },
  {
   "cell_type": "code",
   "execution_count": 69,
   "metadata": {},
   "outputs": [
    {
     "name": "stdout",
     "output_type": "stream",
     "text": [
      "Found 323 images belonging to 4 classes.\n",
      "Found 0 images belonging to 0 classes.\n"
     ]
    }
   ],
   "source": [
    "##  3.4. Data load & augmentation\n",
    "\n",
    "train_datagen = ImageDataGenerator(\n",
    "    rescale=1.0/255,  # 픽셀 값을 0~1로 정규화\n",
    "    rotation_range=15,  # 약간의 회전 허용\n",
    "    width_shift_range=0.1,\n",
    "    height_shift_range=0.1,\n",
    "    zoom_range=0.1\n",
    ")\n",
    "train_generator = train_datagen.flow_from_directory(\n",
    "    train_dir,\n",
    "    target_size=img_size,\n",
    "    batch_size=batch_size,\n",
    "    class_mode='categorical'\n",
    ")\n",
    "\n",
    "# Test 데이터 로드\n",
    "test_datagen = ImageDataGenerator(rescale=1.0/255)\n",
    "test_generator = test_datagen.flow_from_directory(\n",
    "    test_dir,\n",
    "    target_size=img_size,\n",
    "    batch_size=batch_size,\n",
    "    class_mode=None,\n",
    "    shuffle=False\n",
    ")"
   ]
  },
  {
   "cell_type": "code",
   "execution_count": 70,
   "metadata": {},
   "outputs": [],
   "source": [
    "## 3.5. Model justification (Transfer Learning)\n",
    "\n",
    "# 모델 정의 (EfficientNetB0)\n",
    "base_model = EfficientNetB0(weights='imagenet', include_top=False, input_shape=(224, 224, 3))\n",
    "x = GlobalAveragePooling2D()(base_model.output)\n",
    "x = Dense(256, activation='relu')(x)\n",
    "predictions = Dense(train_generator.num_classes, activation='softmax')(x)\n",
    "\n",
    "model = Model(inputs=base_model.input, outputs=predictions)\n",
    "\n",
    "# Base 모델 상위 레이어만 훈련 가능하도록 설정\n",
    "for layer in base_model.layers[-20:]:  # 마지막 20개 레이어만 훈련 가능\n",
    "    layer.trainable = True\n",
    "\n",
    "# 모델 컴파일\n",
    "model.compile(optimizer=Adam(learning_rate=learning_rate),\n",
    "              loss='categorical_crossentropy',\n",
    "              metrics=['accuracy'])\n",
    "\n",
    "# 콜백 설정 (최고 성능 모델 저장)\n",
    "checkpoint_cb = tf.keras.callbacks.ModelCheckpoint(\n",
    "    model_save_path,\n",
    "    save_best_only=True,\n",
    "    monitor='accuracy',  # 정확도를 기준으로 저장\n",
    "    mode='max',\n",
    "    verbose=1\n",
    ")"
   ]
  },
  {
   "cell_type": "code",
   "execution_count": 71,
   "metadata": {},
   "outputs": [
    {
     "name": "stdout",
     "output_type": "stream",
     "text": [
      "Epoch 1/20\n"
     ]
    },
    {
     "name": "stderr",
     "output_type": "stream",
     "text": [
      "c:\\Users\\SAMSUNG\\AppData\\Local\\Programs\\Python\\Python312\\Lib\\site-packages\\keras\\src\\trainers\\data_adapters\\py_dataset_adapter.py:121: UserWarning: Your `PyDataset` class should call `super().__init__(**kwargs)` in its constructor. `**kwargs` can include `workers`, `use_multiprocessing`, `max_queue_size`. Do not pass these arguments to `fit()`, as they will be ignored.\n",
      "  self._warn_if_super_not_called()\n"
     ]
    },
    {
     "name": "stdout",
     "output_type": "stream",
     "text": [
      "\u001b[1m41/41\u001b[0m \u001b[32m━━━━━━━━━━━━━━━━━━━━\u001b[0m\u001b[37m\u001b[0m \u001b[1m0s\u001b[0m 3s/step - accuracy: 0.4987 - loss: 1.2972"
     ]
    },
    {
     "ename": "ValueError",
     "evalue": "Must provide at least one structure",
     "output_type": "error",
     "traceback": [
      "\u001b[1;31m---------------------------------------------------------------------------\u001b[0m",
      "\u001b[1;31mValueError\u001b[0m                                Traceback (most recent call last)",
      "Cell \u001b[1;32mIn[71], line 4\u001b[0m\n\u001b[0;32m      1\u001b[0m \u001b[38;5;66;03m## 3.6. Training\u001b[39;00m\n\u001b[0;32m      2\u001b[0m \n\u001b[0;32m      3\u001b[0m \u001b[38;5;66;03m# 학습 기록 저장\u001b[39;00m\n\u001b[1;32m----> 4\u001b[0m history \u001b[38;5;241m=\u001b[39m \u001b[43mmodel\u001b[49m\u001b[38;5;241;43m.\u001b[39;49m\u001b[43mfit\u001b[49m\u001b[43m(\u001b[49m\n\u001b[0;32m      5\u001b[0m \u001b[43m    \u001b[49m\u001b[43mtrain_generator\u001b[49m\u001b[43m,\u001b[49m\n\u001b[0;32m      6\u001b[0m \u001b[43m    \u001b[49m\u001b[43mepochs\u001b[49m\u001b[38;5;241;43m=\u001b[39;49m\u001b[43mepochs\u001b[49m\u001b[43m,\u001b[49m\n\u001b[0;32m      7\u001b[0m \u001b[43m    \u001b[49m\u001b[43mvalidation_data\u001b[49m\u001b[43m \u001b[49m\u001b[38;5;241;43m=\u001b[39;49m\u001b[43m \u001b[49m\u001b[43mtest_generator\u001b[49m\u001b[43m,\u001b[49m\n\u001b[0;32m      8\u001b[0m \u001b[43m    \u001b[49m\u001b[43mverbose\u001b[49m\u001b[38;5;241;43m=\u001b[39;49m\u001b[38;5;241;43m1\u001b[39;49m\u001b[43m,\u001b[49m\n\u001b[0;32m      9\u001b[0m \u001b[43m    \u001b[49m\u001b[43mcallbacks\u001b[49m\u001b[38;5;241;43m=\u001b[39;49m\u001b[43m[\u001b[49m\u001b[43mcheckpoint_cb\u001b[49m\u001b[43m]\u001b[49m\n\u001b[0;32m     10\u001b[0m \u001b[43m)\u001b[49m\n\u001b[0;32m     12\u001b[0m \u001b[38;5;66;03m# 학습 과정 시각화 (Accuracy)\u001b[39;00m\n\u001b[0;32m     13\u001b[0m plt\u001b[38;5;241m.\u001b[39mplot(history\u001b[38;5;241m.\u001b[39mhistory[\u001b[38;5;124m'\u001b[39m\u001b[38;5;124maccuracy\u001b[39m\u001b[38;5;124m'\u001b[39m], label\u001b[38;5;241m=\u001b[39m\u001b[38;5;124m'\u001b[39m\u001b[38;5;124mAccuracy\u001b[39m\u001b[38;5;124m'\u001b[39m)\n",
      "File \u001b[1;32mc:\\Users\\SAMSUNG\\AppData\\Local\\Programs\\Python\\Python312\\Lib\\site-packages\\keras\\src\\utils\\traceback_utils.py:122\u001b[0m, in \u001b[0;36mfilter_traceback.<locals>.error_handler\u001b[1;34m(*args, **kwargs)\u001b[0m\n\u001b[0;32m    119\u001b[0m     filtered_tb \u001b[38;5;241m=\u001b[39m _process_traceback_frames(e\u001b[38;5;241m.\u001b[39m__traceback__)\n\u001b[0;32m    120\u001b[0m     \u001b[38;5;66;03m# To get the full stack trace, call:\u001b[39;00m\n\u001b[0;32m    121\u001b[0m     \u001b[38;5;66;03m# `keras.config.disable_traceback_filtering()`\u001b[39;00m\n\u001b[1;32m--> 122\u001b[0m     \u001b[38;5;28;01mraise\u001b[39;00m e\u001b[38;5;241m.\u001b[39mwith_traceback(filtered_tb) \u001b[38;5;28;01mfrom\u001b[39;00m \u001b[38;5;28;01mNone\u001b[39;00m\n\u001b[0;32m    123\u001b[0m \u001b[38;5;28;01mfinally\u001b[39;00m:\n\u001b[0;32m    124\u001b[0m     \u001b[38;5;28;01mdel\u001b[39;00m filtered_tb\n",
      "File \u001b[1;32mc:\\Users\\SAMSUNG\\AppData\\Local\\Programs\\Python\\Python312\\Lib\\site-packages\\keras\\src\\tree\\optree_impl.py:76\u001b[0m, in \u001b[0;36mmap_structure\u001b[1;34m(func, *structures)\u001b[0m\n\u001b[0;32m     74\u001b[0m     \u001b[38;5;28;01mraise\u001b[39;00m \u001b[38;5;167;01mTypeError\u001b[39;00m(\u001b[38;5;124mf\u001b[39m\u001b[38;5;124m\"\u001b[39m\u001b[38;5;124m`func` must be callable. Received: func=\u001b[39m\u001b[38;5;132;01m{\u001b[39;00mfunc\u001b[38;5;132;01m}\u001b[39;00m\u001b[38;5;124m\"\u001b[39m)\n\u001b[0;32m     75\u001b[0m \u001b[38;5;28;01mif\u001b[39;00m \u001b[38;5;129;01mnot\u001b[39;00m structures:\n\u001b[1;32m---> 76\u001b[0m     \u001b[38;5;28;01mraise\u001b[39;00m \u001b[38;5;167;01mValueError\u001b[39;00m(\u001b[38;5;124m\"\u001b[39m\u001b[38;5;124mMust provide at least one structure\u001b[39m\u001b[38;5;124m\"\u001b[39m)\n\u001b[0;32m     77\u001b[0m \u001b[38;5;28;01mfor\u001b[39;00m other \u001b[38;5;129;01min\u001b[39;00m structures[\u001b[38;5;241m1\u001b[39m:]:\n\u001b[0;32m     78\u001b[0m     assert_same_structure(structures[\u001b[38;5;241m0\u001b[39m], other, check_types\u001b[38;5;241m=\u001b[39m\u001b[38;5;28;01mFalse\u001b[39;00m)\n",
      "\u001b[1;31mValueError\u001b[0m: Must provide at least one structure"
     ]
    }
   ],
   "source": [
    "## 3.6. Training\n",
    "\n",
    "# 학습 기록 저장\n",
    "history = model.fit(\n",
    "    train_generator,\n",
    "    epochs=epochs,\n",
    "    validation_data = test_generator,\n",
    "    verbose=1,\n",
    "    callbacks=[checkpoint_cb]\n",
    ")\n",
    "\n",
    "# 학습 과정 시각화 (Accuracy)\n",
    "plt.plot(history.history['accuracy'], label='Accuracy')\n",
    "plt.title('Model Accuracy')\n",
    "plt.xlabel('Epoch')\n",
    "plt.ylabel('Accuracy')\n",
    "plt.legend()\n",
    "plt.grid(True)\n",
    "plt.show()"
   ]
  }
 ],
 "metadata": {
  "kernelspec": {
   "display_name": "Python 3",
   "language": "python",
   "name": "python3"
  },
  "language_info": {
   "codemirror_mode": {
    "name": "ipython",
    "version": 3
   },
   "file_extension": ".py",
   "mimetype": "text/x-python",
   "name": "python",
   "nbconvert_exporter": "python",
   "pygments_lexer": "ipython3",
   "version": "3.12.3"
  }
 },
 "nbformat": 4,
 "nbformat_minor": 2
}
